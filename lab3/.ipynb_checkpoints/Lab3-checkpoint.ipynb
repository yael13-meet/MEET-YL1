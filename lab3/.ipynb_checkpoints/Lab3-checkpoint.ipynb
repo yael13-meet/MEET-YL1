{
 "metadata": {
  "name": ""
 },
 "nbformat": 3,
 "nbformat_minor": 0,
 "worksheets": [
  {
   "cells": [
    {
     "cell_type": "code",
     "collapsed": false,
     "input": [
      "import csv\n",
      "f = open('cig.csv', 'rb')\n",
      "reader = csv.reader(f)\n",
      "\n",
      "for i in reader:\n",
      "    #print i\n",
      "    a = i[0]\n",
      "    #print a\n",
      "    b = a.replace(\"\\t\\t\", \" \")\n",
      "    #print b\n",
      "    c = b.split()\n",
      "    #print c\n",
      "    \n",
      "    d = c[1:]\n",
      "    e = map(float,d)\n",
      "    new_list = [c[0]]\n",
      "    new_list.extend(e)\n",
      "    print new_list\n",
      "    \n",
      "\n",
      "f.close()"
     ],
     "language": "python",
     "metadata": {},
     "outputs": [
      {
       "output_type": "stream",
       "stream": "stdout",
       "text": [
        "['Alpine', 14.1, 0.86, 0.9853, 13.6]\n",
        "['Benson&Hedges', 16.0, 1.06, 1.0938, 16.6]\n",
        "['BullDurham', 29.8, 2.03, 1.165, 23.5]\n",
        "['CamelLights', 8.0, 0.67, 0.928, 10.2]\n",
        "['Carlton', 4.1, 0.4, 0.9462, 5.4]\n",
        "['Chesterfield', 15.0, 1.04, 0.8885, 15.0]\n",
        "['GoldenLights', 8.8, 0.76, 1.0267, 9.0]\n",
        "['Kent', 12.4, 0.95, 0.9225, 12.3]\n",
        "['Kool', 16.6, 1.12, 0.9372, 16.3]\n",
        "['L&M', 14.9, 1.02, 0.8858, 15.4]\n",
        "['LarkLights', 13.7, 1.01, 0.9643, 13.0]\n",
        "['Marlboro', 15.1, 0.9, 0.9316, 14.4]\n",
        "['Merit', 7.8, 0.57, 0.9705, 10.0]\n",
        "['MultiFilter', 11.4, 0.78, 1.124, 10.2]\n",
        "['NewportLights', 9.0, 0.74, 0.8517, 9.5]\n",
        "['Now', 1.0, 0.13, 0.7851, 1.5]\n",
        "['OldGold', 17.0, 1.26, 0.9186, 18.5]\n",
        "['PallMallLight', 12.8, 1.08, 1.0395, 12.6]\n",
        "['Raleigh', 15.8, 0.96, 0.9573, 17.5]\n",
        "['SalemUltra', 4.5, 0.42, 0.9106, 4.9]\n",
        "['Tareyton', 14.5, 1.01, 1.007, 15.9]\n",
        "['True', 7.3, 0.61, 0.9806, 8.5]\n",
        "['ViceroyRichLight', 8.6, 0.69, 0.9693, 10.6]\n",
        "['VirginiaSlims', 15.2, 1.02, 0.9496, 13.9]\n",
        "['WinstonLights', 12.0, 0.82, 1.1184, 14.9]\n"
       ]
      }
     ],
     "prompt_number": 6
    }
   ],
   "metadata": {}
  }
 ]
}